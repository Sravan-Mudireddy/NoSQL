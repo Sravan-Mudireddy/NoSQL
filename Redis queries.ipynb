{
 "cells": [
  {
   "cell_type": "markdown",
   "metadata": {},
   "source": [
    "## Redis Queries for Project_ecommerce"
   ]
  },
  {
   "cell_type": "code",
   "execution_count": null,
   "metadata": {
    "vscode": {
     "languageId": "sql"
    }
   },
   "outputs": [],
   "source": [
    "# Redis Queries for Caching Data\n",
    "\n",
    "# Set user data in Redis\n",
    "SET user:u1:data '{\"_id\": \"u1\", \"name\": \"Alice\", \"email\": \"alice@example.com\", \"address\": \"123 Main St\"}'\n",
    "SET user:u2:data '{\"_id\": \"u2\", \"name\": \"Bob\", \"email\": \"bob@example.com\", \"address\": \"456 Maple Ave\"}'\n",
    "SET user:u3:data '{\"_id\": \"u3\", \"name\": \"Sravan\", \"email\": \"sravan@example.com\", \"address\": \"789 Oak Dr\"}'\n",
    "SET user:u4:data '{\"_id\": \"u4\", \"name\": \"Eve\", \"email\": \"eve@example.com\", \"address\": \"101 Pine Ln\"}'\n",
    "SET user:u5:data '{\"_id\": \"u5\", \"name\": \"John\", \"email\": \"john@example.com\", \"address\": \"202 Cedar Blvd\"}'\n"
   ]
  },
  {
   "cell_type": "markdown",
   "metadata": {},
   "source": [
    "It stores user data in Redis as key-value pairs, with the key being user:{user_id}:data and the value being the user information stored in JSON format.\n",
    "This allows faster access to user data through Redis without repeatedly querying MongoDB."
   ]
  },
  {
   "cell_type": "markdown",
   "metadata": {},
   "source": []
  }
 ],
 "metadata": {
  "language_info": {
   "name": "python"
  }
 },
 "nbformat": 4,
 "nbformat_minor": 2
}
