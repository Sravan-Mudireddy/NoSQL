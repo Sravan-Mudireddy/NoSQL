{
 "cells": [
  {
   "cell_type": "markdown",
   "metadata": {},
   "source": [
    "## MongoDB Queries for Project_ecommerce"
   ]
  },
  {
   "cell_type": "code",
   "execution_count": null,
   "metadata": {
    "vscode": {
     "languageId": "sql"
    }
   },
   "outputs": [],
   "source": [
    "//Queries for Inserting Data\n",
    "\n",
    "// Use the project_ecommerce database\n",
    "use project_ecommerce;\n",
    "\n",
    "// Insert users into the \"users\" collection\n",
    "db.users.insertMany([\n",
    "    { \"_id\": \"u1\", \"name\": \"Alice\", \"email\": \"alice@example.com\", \"address\": \"123 Main St\" },\n",
    "    { \"_id\": \"u2\", \"name\": \"Bob\", \"email\": \"bob@example.com\", \"address\": \"456 Maple Ave\" },\n",
    "    { \"_id\": \"u3\", \"name\": \"Sravan\", \"email\": \"sravan@example.com\", \"address\": \"789 Oak Dr\" },\n",
    "    { \"_id\": \"u4\", \"name\": \"Eve\", \"email\": \"eve@example.com\", \"address\": \"101 Pine Ln\" },\n",
    "    { \"_id\": \"u5\", \"name\": \"John\", \"email\": \"john@example.com\", \"address\": \"202 Cedar Blvd\" }\n",
    "]);\n",
    "\n",
    "// Insert products into the \"products\" collection\n",
    "db.products.insertMany([\n",
    "    { \"_id\": \"1\", \"name\": \"Laptop\", \"price\": 1200, \"category\": \"Electronics\", \"description\": \"High-performance laptop.\" },\n",
    "    { \"_id\": \"2\", \"name\": \"Phone\", \"price\": 800, \"category\": \"Electronics\", \"description\": \"Smartphone with advanced features.\" },\n",
    "    { \"_id\": \"3\", \"name\": \"Headphones\", \"price\": 200, \"category\": \"Accessories\", \"description\": \"Noise-cancelling headphones.\" },\n",
    "    { \"_id\": \"4\", \"name\": \"Smartwatch\", \"price\": 250, \"category\": \"Accessories\", \"description\": \"Fitness tracking smartwatch.\" },\n",
    "    { \"_id\": \"5\", \"name\": \"Keyboard\", \"price\": 100, \"category\": \"Electronics\", \"description\": \"Mechanical keyboard with RGB lighting.\" }\n",
    "]);\n"
   ]
  },
  {
   "cell_type": "markdown",
   "metadata": {},
   "source": [
    "It uses the project_ecommerce database to insert users and products into the respective collections (users and products).\n",
    "\n",
    "The data includes user details such as name, email, and address, and product details such as name, price, and description."
   ]
  },
  {
   "cell_type": "markdown",
   "metadata": {},
   "source": []
  }
 ],
 "metadata": {
  "language_info": {
   "name": "python"
  }
 },
 "nbformat": 4,
 "nbformat_minor": 2
}
