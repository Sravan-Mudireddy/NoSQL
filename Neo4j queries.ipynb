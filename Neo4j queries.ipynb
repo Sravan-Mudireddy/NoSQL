{
 "cells": [
  {
   "cell_type": "markdown",
   "metadata": {},
   "source": [
    "## Neo4j Queries for Project_ecommerce"
   ]
  },
  {
   "cell_type": "code",
   "execution_count": null,
   "metadata": {
    "vscode": {
     "languageId": "sql"
    }
   },
   "outputs": [],
   "source": [
    "// Neo4j Queries for Inserting Data\n",
    "\n",
    "// Insert users into the Neo4j graph\n",
    "CREATE (u1:User {id: 'u1', name: 'Alice', email: 'alice@example.com', address: '123 Main St'})\n",
    "CREATE (u2:User {id: 'u2', name: 'Bob', email: 'bob@example.com', address: '456 Maple Ave'})\n",
    "CREATE (u3:User {id: 'u3', name: 'Sravan', email: 'sravan@example.com', address: '789 Oak Dr'})\n",
    "CREATE (u4:User {id: 'u4', name: 'Eve', email: 'eve@example.com', address: '101 Pine Ln'})\n",
    "CREATE (u5:User {id: 'u5', name: 'John', email: 'john@example.com', address: '202 Cedar Blvd'})\n",
    "\n",
    "// Insert products into the Neo4j graph\n",
    "CREATE (p1:Product {id: '1', name: 'Laptop', price: 1200, category: 'Electronics', description: 'High-performance laptop.'})\n",
    "CREATE (p2:Product {id: '2', name: 'Phone', price: 800, category: 'Electronics', description: 'Smartphone with advanced features.'})\n",
    "CREATE (p3:Product {id: '3', name: 'Headphones', price: 200, category: 'Accessories', description: 'Noise-cancelling headphones.'})\n",
    "CREATE (p4:Product {id: '4', name: 'Smartwatch', price: 250, category: 'Accessories', description: 'Fitness tracking smartwatch.'})\n",
    "CREATE (p5:Product {id: '5', name: 'Keyboard', price: 100, category: 'Electronics', description: 'Mechanical keyboard with RGB lighting.'})\n",
    "\n",
    "// Create relationships: users viewing products\n",
    "MATCH (u1:User {id: 'u1'}), (p1:Product {id: '1'}), (p2:Product {id: '2'})\n",
    "CREATE (u1)-[:VIEWED]->(p1)\n",
    "CREATE (u1)-[:VIEWED]->(p2)\n",
    "\n",
    "MATCH (u2:User {id: 'u2'}), (p3:Product {id: '3'})\n",
    "CREATE (u2)-[:VIEWED]->(p3)\n",
    "\n",
    "MATCH (u3:User {id: 'u3'}), (p1:Product {id: '1'}), (p5:Product {id: '5'})\n",
    "CREATE (u3)-[:VIEWED]->(p1)\n",
    "CREATE (u3)-[:VIEWED]->(p5)\n",
    "\n",
    "MATCH (u4:User {id: 'u4'}), (p4:Product {id: '4'})\n",
    "CREATE (u4)-[:VIEWED]->(p4)\n",
    "\n",
    "MATCH (u5:User {id: 'u5'}), (p2:Product {id: '2'}), (p3:Product {id: '3'})\n",
    "CREATE (u5)-[:VIEWED]->(p2)\n",
    "CREATE (u5)-[:VIEWED]->(p3)\n"
   ]
  },
  {
   "cell_type": "markdown",
   "metadata": {},
   "source": [
    "This file contains Cypher queries used to insert users and products into the Neo4j graph database and create relationships between users and products. Neo4j is a graph database where entities (users, products) can be connected through relationships.\n",
    "\n",
    "\n"
   ]
  },
  {
   "cell_type": "markdown",
   "metadata": {},
   "source": []
  }
 ],
 "metadata": {
  "language_info": {
   "name": "python"
  }
 },
 "nbformat": 4,
 "nbformat_minor": 2
}
